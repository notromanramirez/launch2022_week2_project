{
 "cells": [
  {
   "cell_type": "markdown",
   "metadata": {},
   "source": [
    "## THIS NOTEBOOK WILL NOT WORK IN GOOGLE COLAB!!! IT MUST BE RUN LOCALLY!!! You can download it as an .ipynb file and open that with Jupyter notebook/labs"
   ]
  },
  {
   "cell_type": "code",
   "execution_count": 12,
   "metadata": {},
   "outputs": [],
   "source": [
    "import sqlalchemy\n",
    "import pymysql\n",
    "from sqlalchemy import create_engine\n",
    "import pandas as pd"
   ]
  },
  {
   "cell_type": "code",
   "execution_count": 13,
   "metadata": {},
   "outputs": [],
   "source": [
    "password = 'iloveuva123!'\n",
    "db_name = 'project_2'"
   ]
  },
  {
   "cell_type": "code",
   "execution_count": 14,
   "metadata": {},
   "outputs": [],
   "source": [
    "conn = pymysql.connect(host='127.0.0.1', port=3306, user='root', password=password, database=db_name)"
   ]
  },
  {
   "cell_type": "code",
   "execution_count": 15,
   "metadata": {},
   "outputs": [],
   "source": [
    "connection = create_engine(\"mysql+pymysql://root:\" + password + \"@localhost:3306/\" + db_name)"
   ]
  },
  {
   "cell_type": "code",
   "execution_count": 22,
   "metadata": {},
   "outputs": [],
   "source": [
    "file_name = 'database_draft.xlsx'\n",
    "\n",
    "student_df = pd.read_excel(file_name, sheet_name = 'student_database')\n",
    "subject_df = pd.read_excel(file_name, sheet_name = 'subject_database')\n",
    "faculty_df = pd.read_excel(file_name, sheet_name = 'faculty_database')\n",
    "house_df = pd.read_excel(file_name, sheet_name = 'house_database')"
   ]
  },
  {
   "cell_type": "code",
   "execution_count": 24,
   "metadata": {},
   "outputs": [],
   "source": [
    "student_df.to_sql(name='students', con=connection, if_exists='replace', index=False)\n",
    "subject_df.to_sql(name='subject', con=connection, if_exists='replace', index=False)\n",
    "faculty_df.to_sql(name='faculty', con=connection, if_exists='replace', index=False)\n",
    "house_df.to_sql(name='house', con=connection, if_exists='replace', index=False)"
   ]
  },
  {
   "cell_type": "code",
   "execution_count": 27,
   "metadata": {},
   "outputs": [],
   "source": [
    "query1 = \"\"\"\n",
    "\n",
    "select house_name, count(house_name) as \"Number of Students\" \n",
    "from students \n",
    "join house on students.house_id = house.house_id \n",
    "group by house_name\n",
    "order by count(house_name) desc\n",
    "limit 3;\n",
    "\n",
    "\"\"\"\n",
    "\n",
    "query2 = \"\"\"\n",
    "\n",
    "select class_name, faculty_school\n",
    "from subject\n",
    "join faculty on subject.faculty_id = faculty.faculty_id;\n",
    "\n",
    "\"\"\"\n",
    "\n",
    "\n",
    "query3 = \"\"\"\n",
    "\n",
    "select class_name, concat(faculty_fname,\" \",faculty_lname) as 'taught by:', count(fav_class_id) as 'popular_class' #popular classes\n",
    "from students\n",
    "join subject on students.fav_class_id = subject.class_id\n",
    "join faculty on faculty.subject_id = subject.class_name\n",
    "group by class_name\n",
    "order by popular_class desc\n",
    "limit 3;\n",
    "\n",
    "\"\"\"\n"
   ]
  },
  {
   "cell_type": "code",
   "execution_count": 28,
   "metadata": {},
   "outputs": [
    {
     "data": {
      "text/html": [
       "<div>\n",
       "<style scoped>\n",
       "    .dataframe tbody tr th:only-of-type {\n",
       "        vertical-align: middle;\n",
       "    }\n",
       "\n",
       "    .dataframe tbody tr th {\n",
       "        vertical-align: top;\n",
       "    }\n",
       "\n",
       "    .dataframe thead th {\n",
       "        text-align: right;\n",
       "    }\n",
       "</style>\n",
       "<table border=\"1\" class=\"dataframe\">\n",
       "  <thead>\n",
       "    <tr style=\"text-align: right;\">\n",
       "      <th></th>\n",
       "      <th>house_name</th>\n",
       "      <th>Number of Students</th>\n",
       "    </tr>\n",
       "  </thead>\n",
       "  <tbody>\n",
       "    <tr>\n",
       "      <th>0</th>\n",
       "      <td>gryffindor</td>\n",
       "      <td>21</td>\n",
       "    </tr>\n",
       "    <tr>\n",
       "      <th>1</th>\n",
       "      <td>slytherin</td>\n",
       "      <td>8</td>\n",
       "    </tr>\n",
       "    <tr>\n",
       "      <th>2</th>\n",
       "      <td>ravenclaw</td>\n",
       "      <td>7</td>\n",
       "    </tr>\n",
       "  </tbody>\n",
       "</table>\n",
       "</div>"
      ],
      "text/plain": [
       "   house_name  Number of Students\n",
       "0  gryffindor                  21\n",
       "1   slytherin                   8\n",
       "2   ravenclaw                   7"
      ]
     },
     "execution_count": 28,
     "metadata": {},
     "output_type": "execute_result"
    }
   ],
   "source": [
    "result_df = pd.read_sql(query1, con=connection)\n",
    "result_df"
   ]
  },
  {
   "cell_type": "code",
   "execution_count": 29,
   "metadata": {},
   "outputs": [
    {
     "data": {
      "text/html": [
       "<div>\n",
       "<style scoped>\n",
       "    .dataframe tbody tr th:only-of-type {\n",
       "        vertical-align: middle;\n",
       "    }\n",
       "\n",
       "    .dataframe tbody tr th {\n",
       "        vertical-align: top;\n",
       "    }\n",
       "\n",
       "    .dataframe thead th {\n",
       "        text-align: right;\n",
       "    }\n",
       "</style>\n",
       "<table border=\"1\" class=\"dataframe\">\n",
       "  <thead>\n",
       "    <tr style=\"text-align: right;\">\n",
       "      <th></th>\n",
       "      <th>class_name</th>\n",
       "      <th>faculty_school</th>\n",
       "    </tr>\n",
       "  </thead>\n",
       "  <tbody>\n",
       "    <tr>\n",
       "      <th>0</th>\n",
       "      <td>defense</td>\n",
       "      <td>hogwarts</td>\n",
       "    </tr>\n",
       "    <tr>\n",
       "      <th>1</th>\n",
       "      <td>arithmancy</td>\n",
       "      <td>hogwarts</td>\n",
       "    </tr>\n",
       "    <tr>\n",
       "      <th>2</th>\n",
       "      <td>herbology</td>\n",
       "      <td>hogwarts</td>\n",
       "    </tr>\n",
       "    <tr>\n",
       "      <th>3</th>\n",
       "      <td>flying</td>\n",
       "      <td>hogwarts</td>\n",
       "    </tr>\n",
       "    <tr>\n",
       "      <th>4</th>\n",
       "      <td>transfigurations</td>\n",
       "      <td>hogwarts</td>\n",
       "    </tr>\n",
       "    <tr>\n",
       "      <th>5</th>\n",
       "      <td>potions</td>\n",
       "      <td>hogwarts</td>\n",
       "    </tr>\n",
       "    <tr>\n",
       "      <th>6</th>\n",
       "      <td>lunch</td>\n",
       "      <td>hogwarts</td>\n",
       "    </tr>\n",
       "    <tr>\n",
       "      <th>7</th>\n",
       "      <td>quidditch</td>\n",
       "      <td>hogwarts</td>\n",
       "    </tr>\n",
       "    <tr>\n",
       "      <th>8</th>\n",
       "      <td>spellworks</td>\n",
       "      <td>durmstrang</td>\n",
       "    </tr>\n",
       "    <tr>\n",
       "      <th>9</th>\n",
       "      <td>rare_languages</td>\n",
       "      <td>durmstrang</td>\n",
       "    </tr>\n",
       "    <tr>\n",
       "      <th>10</th>\n",
       "      <td>culinary_arts</td>\n",
       "      <td>beauxbatons</td>\n",
       "    </tr>\n",
       "    <tr>\n",
       "      <th>11</th>\n",
       "      <td>literature</td>\n",
       "      <td>beauxbatons</td>\n",
       "    </tr>\n",
       "    <tr>\n",
       "      <th>12</th>\n",
       "      <td>etiquette</td>\n",
       "      <td>beauxbatons</td>\n",
       "    </tr>\n",
       "    <tr>\n",
       "      <th>13</th>\n",
       "      <td>charms</td>\n",
       "      <td>hogwarts</td>\n",
       "    </tr>\n",
       "  </tbody>\n",
       "</table>\n",
       "</div>"
      ],
      "text/plain": [
       "          class_name faculty_school\n",
       "0            defense       hogwarts\n",
       "1         arithmancy       hogwarts\n",
       "2         herbology        hogwarts\n",
       "3             flying       hogwarts\n",
       "4   transfigurations       hogwarts\n",
       "5            potions       hogwarts\n",
       "6              lunch       hogwarts\n",
       "7          quidditch       hogwarts\n",
       "8         spellworks     durmstrang\n",
       "9     rare_languages     durmstrang\n",
       "10     culinary_arts    beauxbatons\n",
       "11        literature    beauxbatons\n",
       "12         etiquette    beauxbatons\n",
       "13            charms       hogwarts"
      ]
     },
     "execution_count": 29,
     "metadata": {},
     "output_type": "execute_result"
    }
   ],
   "source": [
    "result_df2 = pd.read_sql(query2, con=connection)\n",
    "result_df2"
   ]
  },
  {
   "cell_type": "code",
   "execution_count": 30,
   "metadata": {},
   "outputs": [
    {
     "data": {
      "text/html": [
       "<div>\n",
       "<style scoped>\n",
       "    .dataframe tbody tr th:only-of-type {\n",
       "        vertical-align: middle;\n",
       "    }\n",
       "\n",
       "    .dataframe tbody tr th {\n",
       "        vertical-align: top;\n",
       "    }\n",
       "\n",
       "    .dataframe thead th {\n",
       "        text-align: right;\n",
       "    }\n",
       "</style>\n",
       "<table border=\"1\" class=\"dataframe\">\n",
       "  <thead>\n",
       "    <tr style=\"text-align: right;\">\n",
       "      <th></th>\n",
       "      <th>class_name</th>\n",
       "      <th>taught by:</th>\n",
       "      <th>popular_class</th>\n",
       "    </tr>\n",
       "  </thead>\n",
       "  <tbody>\n",
       "    <tr>\n",
       "      <th>0</th>\n",
       "      <td>transfigurations</td>\n",
       "      <td>auberon eisenberg</td>\n",
       "      <td>10</td>\n",
       "    </tr>\n",
       "    <tr>\n",
       "      <th>1</th>\n",
       "      <td>defense</td>\n",
       "      <td>auberon eisenberg</td>\n",
       "      <td>9</td>\n",
       "    </tr>\n",
       "    <tr>\n",
       "      <th>2</th>\n",
       "      <td>lunch</td>\n",
       "      <td>auberon eisenberg</td>\n",
       "      <td>7</td>\n",
       "    </tr>\n",
       "  </tbody>\n",
       "</table>\n",
       "</div>"
      ],
      "text/plain": [
       "         class_name         taught by:  popular_class\n",
       "0  transfigurations  auberon eisenberg             10\n",
       "1           defense  auberon eisenberg              9\n",
       "2             lunch  auberon eisenberg              7"
      ]
     },
     "execution_count": 30,
     "metadata": {},
     "output_type": "execute_result"
    }
   ],
   "source": [
    "result_df3 = pd.read_sql(query3, con=connection)\n",
    "result_df3"
   ]
  }
 ],
 "metadata": {
  "kernelspec": {
   "display_name": "Python 3 (ipykernel)",
   "language": "python",
   "name": "python3"
  },
  "language_info": {
   "codemirror_mode": {
    "name": "ipython",
    "version": 3
   },
   "file_extension": ".py",
   "mimetype": "text/x-python",
   "name": "python",
   "nbconvert_exporter": "python",
   "pygments_lexer": "ipython3",
   "version": "3.9.7"
  }
 },
 "nbformat": 4,
 "nbformat_minor": 4
}
